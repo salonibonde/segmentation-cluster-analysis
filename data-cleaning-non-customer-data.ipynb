{
 "cells": [
  {
   "cell_type": "code",
   "execution_count": 1,
   "id": "64c97335-671d-4199-b1cd-608d2b4efb7d",
   "metadata": {},
   "outputs": [],
   "source": [
    "import pandas as pd\n",
    "\n",
    "df = pd.read_csv('NonCustomerSurvey.csv')"
   ]
  },
  {
   "cell_type": "code",
   "execution_count": 44,
   "id": "8de7a30b-64dc-4a10-a1f5-2ed9dc6eb3bd",
   "metadata": {},
   "outputs": [],
   "source": [
    "# Calculate the percentage of null values column-wise\n",
    "null_percentage = (df.isnull().sum(axis=0) / df.shape[0]) * 100"
   ]
  },
  {
   "cell_type": "code",
   "execution_count": 45,
   "id": "bb72ea8b-04b7-4f29-bbf4-3f72faf4f5a7",
   "metadata": {},
   "outputs": [],
   "source": [
    "null_percentage_sorted = null_percentage.sort_values(ascending=False)"
   ]
  },
  {
   "cell_type": "code",
   "execution_count": 46,
   "id": "37dd410e-988b-43fc-9afc-8e62cd563947",
   "metadata": {},
   "outputs": [],
   "source": [
    "# Count the number of columns with more than 20% null values\n",
    "columns_with_more_than_20_percent_nulls = null_percentage[null_percentage > 40].count()\n"
   ]
  },
  {
   "cell_type": "code",
   "execution_count": 47,
   "id": "a27a6ce1-8e72-4cb5-bfb9-3c22d2c19894",
   "metadata": {},
   "outputs": [],
   "source": [
    "# Filter columns with less than or equal to 5% null values\n",
    "selected_columns = null_percentage[null_percentage <= 40].index\n",
    "\n",
    "# Remove columns with more than 5% null values\n",
    "df_filtered = df[selected_columns]\n"
   ]
  },
  {
   "cell_type": "code",
   "execution_count": 48,
   "id": "2ef6d524-b8a5-4e0e-ad89-91661d1bb91d",
   "metadata": {},
   "outputs": [],
   "source": [
    "# Calculate the percentage of null values row-wise\n",
    "null_percentage1 = (df_filtered.isnull().sum(axis=1) / df_filtered.shape[1]) * 100\n",
    "\n",
    "# Filter rows with more than 20% null values\n",
    "rows_with_more_than_20_percent_nulls = df_filtered[null_percentage1 < 10]\n"
   ]
  },
  {
   "cell_type": "code",
   "execution_count": 49,
   "id": "c78689d2-55b6-46d6-bc21-e94449c2ad25",
   "metadata": {},
   "outputs": [],
   "source": [
    "# Filter rows with less than or equal to 20% null values\n",
    "final_filtered_df = df_filtered[null_percentage1 < 10]\n"
   ]
  },
  {
   "cell_type": "code",
   "execution_count": 50,
   "id": "d85bb435-32e2-4200-bf7c-6fafee6aff9e",
   "metadata": {},
   "outputs": [],
   "source": [
    "# Calculate the total number of null values in the DataFrame\n",
    "total_null_values = final_filtered_df.isnull().sum()"
   ]
  },
  {
   "cell_type": "code",
   "execution_count": 51,
   "id": "5f6a354a-5915-4563-9d30-b2508d0267cb",
   "metadata": {},
   "outputs": [],
   "source": [
    "cleaned_df = final_filtered_df.dropna()"
   ]
  },
  {
   "cell_type": "code",
   "execution_count": 43,
   "id": "692edc0e-99b5-4e45-a9a7-d986106d7480",
   "metadata": {},
   "outputs": [
    {
     "data": {
      "text/html": [
       "<a href=\"final_filtered_df.xlsx\" download>Click here to download</a>"
      ],
      "text/plain": [
       "<IPython.core.display.HTML object>"
      ]
     },
     "execution_count": 43,
     "metadata": {},
     "output_type": "execute_result"
    }
   ],
   "source": [
    "import pandas as pd\n",
    "from IPython.display import HTML\n",
    "# Convert DataFrame to CSV and save it\n",
    "final_filtered_df.to_excel('final_filtered_df.xlsx', index=False)\n",
    "\n",
    "# Create a download link for the CSV file\n",
    "HTML(f'<a href=\"final_filtered_df.xlsx\" download>Click here to download</a>')"
   ]
  },
  {
   "cell_type": "code",
   "execution_count": 40,
   "id": "931440bb-9283-429d-9d36-92a758ed5771",
   "metadata": {},
   "outputs": [
    {
     "name": "stdout",
     "output_type": "stream",
     "text": [
      "Collecting openpyxlNote: you may need to restart the kernel to use updated packages.\n",
      "\n",
      "  Downloading openpyxl-3.1.2-py2.py3-none-any.whl.metadata (2.5 kB)\n",
      "Collecting et-xmlfile (from openpyxl)\n",
      "  Downloading et_xmlfile-1.1.0-py3-none-any.whl.metadata (1.8 kB)\n",
      "Downloading openpyxl-3.1.2-py2.py3-none-any.whl (249 kB)\n",
      "   ---------------------------------------- 0.0/250.0 kB ? eta -:--:--\n",
      "   - -------------------------------------- 10.2/250.0 kB ? eta -:--:--\n",
      "   ---- ---------------------------------- 30.7/250.0 kB 660.6 kB/s eta 0:00:01\n",
      "   ------------ -------------------------- 81.9/250.0 kB 651.6 kB/s eta 0:00:01\n",
      "   --------------------- ---------------- 143.4/250.0 kB 853.3 kB/s eta 0:00:01\n",
      "   ----------------------------- -------- 194.6/250.0 kB 980.4 kB/s eta 0:00:01\n",
      "   ---------------------------------------  245.8/250.0 kB 1.0 MB/s eta 0:00:01\n",
      "   -------------------------------------- 250.0/250.0 kB 901.3 kB/s eta 0:00:00\n",
      "Downloading et_xmlfile-1.1.0-py3-none-any.whl (4.7 kB)\n",
      "Installing collected packages: et-xmlfile, openpyxl\n",
      "Successfully installed et-xmlfile-1.1.0 openpyxl-3.1.2\n"
     ]
    }
   ],
   "source": [
    "pip install openpyxl"
   ]
  },
  {
   "cell_type": "code",
   "execution_count": null,
   "id": "1c3b12f7-c331-40f1-b4a7-f2cfac94a6f1",
   "metadata": {},
   "outputs": [],
   "source": []
  }
 ],
 "metadata": {
  "kernelspec": {
   "display_name": "Python 3 (ipykernel)",
   "language": "python",
   "name": "python3"
  },
  "language_info": {
   "codemirror_mode": {
    "name": "ipython",
    "version": 3
   },
   "file_extension": ".py",
   "mimetype": "text/x-python",
   "name": "python",
   "nbconvert_exporter": "python",
   "pygments_lexer": "ipython3",
   "version": "3.10.13"
  }
 },
 "nbformat": 4,
 "nbformat_minor": 5
}
